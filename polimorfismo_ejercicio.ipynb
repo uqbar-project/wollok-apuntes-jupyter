{
 "cells": [
  {
   "cell_type": "markdown",
   "id": "7c7969a4",
   "metadata": {},
   "source": [
    "## Empanadas Giménez\n",
    "\n",
    "Tenemos dos empleados de un negocio que vende empanadas, Galván y Baigorria. \n",
    "\n",
    "Galván cobra un sueldo fijo (hoy es 15.000, pero eso puede modificarse). Cuánto gana Galván?"
   ]
  },
  {
   "cell_type": "code",
   "execution_count": 1,
   "id": "eb76e8b5",
   "metadata": {},
   "outputs": [
    {
     "name": "stdout",
     "output_type": "stream",
     "text": [
      "✓ 15000"
     ]
    }
   ],
   "source": [
    "object galvan {\n",
    "\tvar sueldo = 15000\n",
    "\t\n",
    "\tmethod sueldo() = sueldo\n",
    "\t\n",
    "\tmethod sueldo(_sueldo) { sueldo = _sueldo }\n",
    "}\n",
    "\n",
    "galvan.sueldo()"
   ]
  },
  {
   "cell_type": "markdown",
   "id": "27f74979",
   "metadata": {},
   "source": [
    "Baigorria cobra 15 pesos por cada empanada que vende. Cuánto gana Baigorria?"
   ]
  },
  {
   "cell_type": "code",
   "execution_count": 2,
   "id": "7886def1",
   "metadata": {},
   "outputs": [
    {
     "name": "stdout",
     "output_type": "stream",
     "text": [
      "✓ 1515"
     ]
    }
   ],
   "source": [
    "object baigorria {\n",
    "\tvar cantidadEmpanadasVendidas = 100\n",
    "\tvar montoPorEmpanada = 15\n",
    "\t\n",
    "\tmethod venderEmpanada() {\n",
    "cantidadEmpanadasVendidas = cantidadEmpanadasVendidas + 1 \n",
    "}\n",
    "\t\n",
    "\tmethod sueldo() = cantidadEmpanadasVendidas * montoPorEmpanada\n",
    "}\n",
    "\n",
    "baigorria.venderEmpanada()\n",
    "baigorria.sueldo()"
   ]
  },
  {
   "cell_type": "markdown",
   "id": "196e5a58",
   "metadata": {},
   "source": [
    "Vemos que tanto a baigorria como a galvan podemos preguntarle el sueldo. No nos importa cómo lo resuelve cada uno, pero sí que en algún punto comparten la misma interfaz: mensaje sueldo() sin parámetros. A baigorria no le podemos asignar el sueldo."
   ]
  },
  {
   "cell_type": "code",
   "execution_count": 3,
   "id": "9fbc23ec",
   "metadata": {},
   "outputs": [
    {
     "name": "stdout",
     "output_type": "stream",
     "text": [
      "✗ Evaluation Error!\n",
      "  baigorria does not understand sueldo(arg 0)"
     ]
    }
   ],
   "source": [
    "baigorria.sueldo(20000)"
   ]
  },
  {
   "cell_type": "markdown",
   "id": "f919d69f",
   "metadata": {},
   "source": [
    "Vamos a agregar entonces un tercer objeto: Giménez, que es quien le paga el sueldo a estos empleados. Queremos decirle a Giménez que le pague a Baigorria o a Galván. Cuando paga, disminuye su dinero. Vamos a dejar de lado la recepción del dinero por parte de los empleados, ya que extendería el ejemplo didáctico.\n",
    "\n",
    "Agregamos entonces el objeto que representa al empleador, con su correspondiente método para pagar a un empleado. Asumimos que su “capital” o dinero inicial es de $ 300.000.\n"
   ]
  },
  {
   "cell_type": "code",
   "execution_count": 15,
   "id": "4a9df65c",
   "metadata": {},
   "outputs": [
    {
     "name": "stdout",
     "output_type": "stream",
     "text": [
      "✓ "
     ]
    }
   ],
   "source": [
    "object gimenez {\n",
    "   var dinero = 300000\n",
    "\t\n",
    "   method dinero() = dinero\n",
    "   method pagarA(empleado) { dinero = dinero - empleado.sueldo() }\n",
    "}"
   ]
  },
  {
   "cell_type": "markdown",
   "id": "df8ea897",
   "metadata": {},
   "source": [
    "¿Quién recibe el mensaje sueldo enviado por gimenez? Y... puede ser baigorria o galvan, viendo solamente el código no podemos saber. \n"
   ]
  },
  {
   "cell_type": "code",
   "execution_count": 16,
   "id": "fa5833d9",
   "metadata": {},
   "outputs": [
    {
     "name": "stdout",
     "output_type": "stream",
     "text": [
      "✓ 298485"
     ]
    }
   ],
   "source": [
    "gimenez.pagarA(baigorria)\n",
    "gimenez.dinero()"
   ]
  },
  {
   "cell_type": "markdown",
   "id": "8e6e81d6",
   "metadata": {},
   "source": [
    "Al evaluar la consulta, el parámetro de pagarA(empleado) es baigorria, y por lo tanto empleado.sueldo() es un mensaje que termina provocando la evaluación del método sueldo() de baigorria. Pero bien podríamos haber hecho la consulta para `galvan`. El mensaje que manda el observador es siempre `empleado.sueldo()`, pero el método que finalmente se termina evaluando, es decir, `sueldo()` del objeto `baigorria` o `sueldo()` del objeto gimenez, se determina en tiempo de ejecución."
   ]
  },
  {
   "cell_type": "markdown",
   "id": "dd300758",
   "metadata": {},
   "source": [
    "## Polimorfismo y tipos\n",
    "\n",
    "Volvamos al método del objeto gimenez:\n",
    "\n",
    "```wlk\n",
    "method pagarA(empleado) { dinero = dinero - empleado.sueldo() }\n",
    "```\n",
    "\n",
    "¿de qué tipo es el parámetro empleado? en principio, de cualquier objeto que entienda el mensaje `sueldo()` sin parámetros y que devuelva un número. El sistema de tipos de Wollok sabe que son por el momento dos los objetos posibles: `baigorria` y `galvan`.\n"
   ]
  },
  {
   "cell_type": "markdown",
   "id": "c0b96ef5",
   "metadata": {},
   "source": [
    "## Resumen\n",
    "\n",
    "> En este capítulo hemos conocido uno de los conceptos fundamentales del paradigma: el polimorfismo como una herramienta para agrupar objetos que tienen diferente comportamiento (distinto código) pero la misma interfaz. Entonces puedo enviarles mensajes sin saber cómo lo implementan, e incluso sin saber a qué objeto particular le estoy hablando: puedo cambiar la referencia sin tener que hacer cambios."
   ]
  }
 ],
 "metadata": {
  "kernelspec": {
   "display_name": "Wollok",
   "language": "wollok",
   "name": "wollok"
  },
  "language_info": {
   "file_extension": ".wlk",
   "mimetype": "text/x-wollok",
   "name": "wollok"
  }
 },
 "nbformat": 4,
 "nbformat_minor": 5
}
